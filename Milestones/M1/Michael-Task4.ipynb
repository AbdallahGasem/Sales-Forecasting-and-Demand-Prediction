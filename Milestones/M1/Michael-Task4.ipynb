{
 "cells": [
  {
   "cell_type": "code",
   "execution_count": 1,
   "id": "5f950fc9-d438-439a-8054-dda2be2b68c4",
   "metadata": {},
   "outputs": [],
   "source": [
    "import numpy as np\n",
    "import pandas as pd\n",
    "import seaborn as sns\n",
    "import statsmodels.api as sm\n",
    "import matplotlib.pyplot as plt\n",
    "from scipy.stats import chi2_contingency\n",
    "\n",
    "data = pd.read_csv(r\"C:\\Courses\\DEPI\\Slides\\project depi\\SuperStoreSales.csv\")\n",
    "\n"
   ]
  },
  {
   "cell_type": "code",
   "execution_count": 2,
   "id": "7121cd4c-42a7-4b67-884a-6083dbb01322",
   "metadata": {},
   "outputs": [
    {
     "name": "stdout",
     "output_type": "stream",
     "text": [
      "   Row ID        Order ID  Order Date   Ship Date       Ship Mode Customer ID  \\\n",
      "0       1  CA-2017-152156  08/11/2017  11/11/2017    Second Class    CG-12520   \n",
      "1       2  CA-2017-152156  08/11/2017  11/11/2017    Second Class    CG-12520   \n",
      "2       3  CA-2017-138688  12/06/2017  16/06/2017    Second Class    DV-13045   \n",
      "3       4  US-2016-108966  11/10/2016  18/10/2016  Standard Class    SO-20335   \n",
      "4       5  US-2016-108966  11/10/2016  18/10/2016  Standard Class    SO-20335   \n",
      "\n",
      "     Customer Name    Segment        Country             City       State  \\\n",
      "0      Claire Gute   Consumer  United States        Henderson    Kentucky   \n",
      "1      Claire Gute   Consumer  United States        Henderson    Kentucky   \n",
      "2  Darrin Van Huff  Corporate  United States      Los Angeles  California   \n",
      "3   Sean O'Donnell   Consumer  United States  Fort Lauderdale     Florida   \n",
      "4   Sean O'Donnell   Consumer  United States  Fort Lauderdale     Florida   \n",
      "\n",
      "   Postal Code Region       Product ID         Category Sub-Category  \\\n",
      "0      42420.0  South  FUR-BO-10001798        Furniture    Bookcases   \n",
      "1      42420.0  South  FUR-CH-10000454        Furniture       Chairs   \n",
      "2      90036.0   West  OFF-LA-10000240  Office Supplies       Labels   \n",
      "3      33311.0  South  FUR-TA-10000577        Furniture       Tables   \n",
      "4      33311.0  South  OFF-ST-10000760  Office Supplies      Storage   \n",
      "\n",
      "                                        Product Name     Sales  \n",
      "0                  Bush Somerset Collection Bookcase  261.9600  \n",
      "1  Hon Deluxe Fabric Upholstered Stacking Chairs,...  731.9400  \n",
      "2  Self-Adhesive Address Labels for Typewriters b...   14.6200  \n",
      "3      Bretford CR4500 Series Slim Rectangular Table  957.5775  \n",
      "4                     Eldon Fold 'N Roll Cart System   22.3680  \n"
     ]
    }
   ],
   "source": [
    "print(data.head())\n"
   ]
  },
  {
   "cell_type": "code",
   "execution_count": 3,
   "id": "43b6792a-bc75-44af-81ce-6bac933ec0ef",
   "metadata": {},
   "outputs": [
    {
     "name": "stdout",
     "output_type": "stream",
     "text": [
      "Row ID            0\n",
      "Order ID          0\n",
      "Order Date        0\n",
      "Ship Date         0\n",
      "Ship Mode         0\n",
      "Customer ID       0\n",
      "Customer Name     0\n",
      "Segment           0\n",
      "Country           0\n",
      "City              0\n",
      "State             0\n",
      "Postal Code      11\n",
      "Region            0\n",
      "Product ID        0\n",
      "Category          0\n",
      "Sub-Category      0\n",
      "Product Name      0\n",
      "Sales             0\n",
      "dtype: int64\n"
     ]
    }
   ],
   "source": [
    "print(data.isnull().sum())\n"
   ]
  },
  {
   "cell_type": "code",
   "execution_count": 4,
   "id": "e48e889b-63fb-4d78-930c-90bb0bed6766",
   "metadata": {},
   "outputs": [],
   "source": [
    "data[\"Postal Code\"] = data.groupby(\"City\")[\"Postal Code\"].transform(lambda x: x.fillna(x.mode()[0] if not x.mode().empty else None))\n"
   ]
  },
  {
   "cell_type": "code",
   "execution_count": 9,
   "id": "55b9ad4a-d31b-4115-81f3-3c60b50cf9ee",
   "metadata": {},
   "outputs": [
    {
     "name": "stdout",
     "output_type": "stream",
     "text": [
      "Row ID           0\n",
      "Order ID         0\n",
      "Order Date       0\n",
      "Ship Date        0\n",
      "Ship Mode        0\n",
      "Customer ID      0\n",
      "Customer Name    0\n",
      "Segment          0\n",
      "Country          0\n",
      "City             0\n",
      "State            0\n",
      "Postal Code      0\n",
      "Region           0\n",
      "Product ID       0\n",
      "Category         0\n",
      "Sub-Category     0\n",
      "Product Name     0\n",
      "Sales            0\n",
      "dtype: int64\n"
     ]
    }
   ],
   "source": [
    "print(data.isnull().sum())\n"
   ]
  },
  {
   "cell_type": "code",
   "execution_count": 11,
   "id": "fec70424-8a31-4afa-9ddb-9f07b9630c12",
   "metadata": {},
   "outputs": [],
   "source": [
    "from sklearn.preprocessing import MinMaxScaler\n",
    "\n",
    "scaler = MinMaxScaler()\n",
    "data[\"Sales\"] = scaler.fit_transform(data[[\"Sales\"]])\n"
   ]
  },
  {
   "cell_type": "code",
   "execution_count": 13,
   "id": "45895eae-16b2-4eec-b6d8-924f97b0ca79",
   "metadata": {},
   "outputs": [],
   "source": [
    "from sklearn.preprocessing import StandardScaler\n",
    "\n",
    "scaler = StandardScaler()\n",
    "data[\"Sales\"] = scaler.fit_transform(data[[\"Sales\"]])\n"
   ]
  },
  {
   "cell_type": "code",
   "execution_count": 21,
   "id": "a51a2d49-3dbc-424d-92b0-e5fa61ddeaa4",
   "metadata": {},
   "outputs": [],
   "source": [
    "dummies = pd.get_dummies(\n",
    "    data[[\"Ship Mode\", \"Segment\", \"Country\", \"City\", \"State\", \"Region\", \"Category\", \"Sub-Category\"]], \n",
    "    drop_first=False\n",
    ")\n",
    "data = pd.concat([data, dummies], axis=1)\n"
   ]
  },
  {
   "cell_type": "code",
   "execution_count": 29,
   "id": "a5b0eb74-84a6-440a-87b4-f64f9b1ecfb6",
   "metadata": {},
   "outputs": [],
   "source": [
    "from sklearn.preprocessing import LabelEncoder\n",
    "\n",
    "encoder = LabelEncoder()  \n",
    "data[\"Ship Mode Encoded\"] = encoder.fit_transform(data[\"Ship Mode\"])\n"
   ]
  },
  {
   "cell_type": "code",
   "execution_count": 39,
   "id": "3f7c112a-53fc-4029-a218-9307d5607c2d",
   "metadata": {},
   "outputs": [],
   "source": [
    "#data[\"Income_per_Hour\"] = data[\"Total_Income\"] / data[\"Working_Hours\"]\n",
    "data[\"Income_per_Hour\"] = data.get(\"Total_Income\", 0) / data.get(\"Working_Hours\", 1)\n"
   ]
  },
  {
   "cell_type": "code",
   "execution_count": 43,
   "id": "8cf87813-5f0f-41d2-88b5-0f75cff8ef63",
   "metadata": {},
   "outputs": [],
   "source": [
    "data[\"Order Date\"] = pd.to_datetime(data[\"Order Date\"], format=\"%d/%m/%Y\", errors='coerce')\n",
    "data[\"Ship Date\"] = pd.to_datetime(data[\"Ship Date\"], format=\"%d/%m/%Y\", errors='coerce')\n",
    "\n",
    "data[\"Shipping_Duration\"] = (data[\"Ship Date\"] - data[\"Order Date\"]).dt.days\n"
   ]
  },
  {
   "cell_type": "code",
   "execution_count": 45,
   "id": "06c9a93f-a1eb-4624-87b7-83da857e9de9",
   "metadata": {},
   "outputs": [],
   "source": [
    "data[\"Order Date\"] = pd.to_datetime(data[\"Order Date\"], format=\"%d/%m/%Y\", errors='coerce')\n",
    "\n",
    "data[\"Order_Year\"] = data[\"Order Date\"].dt.year\n",
    "data[\"Order_Month\"] = data[\"Order Date\"].dt.month\n",
    "data[\"Order_Day\"] = data[\"Order Date\"].dt.day\n",
    "data[\"Order_Weekday\"] = data[\"Order Date\"].dt.weekday\n"
   ]
  },
  {
   "cell_type": "code",
   "execution_count": 33,
   "id": "fd905f4d-c906-46f4-badd-0c007f7e71b7",
   "metadata": {},
   "outputs": [],
   "source": [
    "data[\"Sales_per_Product\"] = data.groupby(\"Product ID\")[\"Sales\"].transform(\"mean\")\n"
   ]
  },
  {
   "cell_type": "code",
   "execution_count": 35,
   "id": "126f8ae4-4b01-4ed3-bf05-d26c95481169",
   "metadata": {},
   "outputs": [],
   "source": [
    "data[\"City_Segment\"] = data[\"City\"] + \"_\" + data[\"Segment\"]\n"
   ]
  },
  {
   "cell_type": "code",
   "execution_count": null,
   "id": "5039fc3f-5150-45cd-92f7-384b67c520c1",
   "metadata": {},
   "outputs": [],
   "source": []
  }
 ],
 "metadata": {
  "kernelspec": {
   "display_name": "Python 3 (ipykernel)",
   "language": "python",
   "name": "python3"
  },
  "language_info": {
   "codemirror_mode": {
    "name": "ipython",
    "version": 3
   },
   "file_extension": ".py",
   "mimetype": "text/x-python",
   "name": "python",
   "nbconvert_exporter": "python",
   "pygments_lexer": "ipython3",
   "version": "3.12.7"
  }
 },
 "nbformat": 4,
 "nbformat_minor": 5
}
