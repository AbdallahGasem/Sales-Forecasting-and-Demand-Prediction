{
 "cells": [
  {
   "cell_type": "code",
   "execution_count": 1,
   "metadata": {},
   "outputs": [],
   "source": [
    "#                                                      بسم الله الرحمن الرحيم                                                 //\n",
    "# program: DatasetsDocs.cpp \n",
    "# Description: Dataset Documentation\n",
    "# Author:  Abdallah Gasem\n",
    "# last modified: 21-02-2025\n",
    "# Version: 1.0"
   ]
  },
  {
   "cell_type": "markdown",
   "metadata": {},
   "source": [
    "# **Dataset Documentation**"
   ]
  },
  {
   "cell_type": "markdown",
   "metadata": {},
   "source": [
    "## Retail dataset of a global Superstore for 4 years."
   ]
  },
  {
   "cell_type": "markdown",
   "metadata": {},
   "source": [
    "#### This [https://www.kaggle.com/datasets/rohitsahoo/sales-forecasting/data] Dataset Consists of 18 Features that are Row ID, Order ID, Order Date, Ship Date, Ship Mode, Customer ID, Customer Name, Segment, Country, City, State, Postal Code, Region, Product ID, Category, Sub-Category, Product Name & Sales. "
   ]
  },
  {
   "cell_type": "markdown",
   "metadata": {},
   "source": [
    "## Understanding the Dataset Features\n",
    "<table style= \"width:70%; margin: auto \">\n",
    "    <tr>\n",
    "        <th>Feature</th>\n",
    "        <th>Description</th>\n",
    "    </tr>\n",
    "    <tr>\n",
    "        <td style=\"font-weight: bolder;\">Sales (Target Variable)</td>\n",
    "        <td>This is the total sales value for a specific order or transaction. It’s a numerical feature representing the monetary value of the products sold, These are the dollar amounts (or other currency) for individual sales transactions..</td>\n",
    "    </tr>\n",
    "    <tr>\n",
    "        <td>Row ID</td>\n",
    "        <td>A unique identifier for each row in the dataset.</td>\n",
    "    </tr>\n",
    "    <tr>\n",
    "        <td>Order ID</td>\n",
    "        <td>A unique identifier for each order.</td>\n",
    "    </tr>\n",
    "    <tr>\n",
    "        <td>Order Date</td>\n",
    "        <td>The date the order was placed. (Useful for time-series analysis.)</td>\n",
    "    </tr>\n",
    "    <tr>\n",
    "        <td>Ship Date</td>\n",
    "        <td>The date the order was shipped.</td>\n",
    "    </tr>\n",
    "    <tr>\n",
    "        <td>Ship Mode</td>\n",
    "        <td>indicates the shipping method or speed used to deliver the product to the customer. It’s a categorical variable that describes the type of shipping service (e.g., standard, expedited)..</td>\n",
    "    </tr>\n",
    "    <tr>\n",
    "        <td>Customer ID</td>\n",
    "        <td>A unique identifier for each customer.</td>\n",
    "    </tr>\n",
    "    <tr>\n",
    "        <td>Customer Name</td>\n",
    "        <td>The name of the customer.</td>\n",
    "    </tr>\n",
    "    <tr>\n",
    "        <td>Segment</td>\n",
    "        <td>The customer segment (e.g., Consumer, Corporate, Home Office).</td>\n",
    "    </tr>\n",
    "    <tr>\n",
    "        <td>Country</td>\n",
    "        <td>The country where the order was placed.</td>\n",
    "    </tr>\n",
    "    <tr>\n",
    "        <td>City</td>\n",
    "        <td>The city where the order was placed.</td>\n",
    "    </tr>\n",
    "    <tr>\n",
    "        <td>State</td>\n",
    "        <td>The state where the order was placed.</td>\n",
    "    </tr>\n",
    "    <tr>\n",
    "        <td>Postal Code</td>\n",
    "        <td>The postal code of the customer’s location.</td>\n",
    "    </tr>\n",
    "    <tr>\n",
    "        <td>Region</td>\n",
    "        <td>The region (e.g., East, West, South, Central) where the order was placed.</td>\n",
    "    </tr>\n",
    "    <tr>\n",
    "        <td>Product ID</td>\n",
    "        <td>A unique identifier for each product.</td>\n",
    "    </tr>\n",
    "    <tr>\n",
    "        <td>Category</td>\n",
    "        <td>The category of the product (e.g., Furniture, Office Supplies, Technology).</td>\n",
    "    </tr>\n",
    "    <tr>\n",
    "        <td>Sub-Category</td>\n",
    "        <td>The sub-category of the product (e.g., Chairs, Tables, Phones).</td>\n",
    "    </tr>\n",
    "    <tr>\n",
    "        <td>Product Name</td>\n",
    "        <td>The name of the product.</td>\n",
    "    </tr>\n",
    "</table>"
   ]
  },
  {
   "cell_type": "markdown",
   "metadata": {},
   "source": [
    "## Revelance"
   ]
  },
  {
   "cell_type": "markdown",
   "metadata": {},
   "source": [
    "1.Time-Based Features:\n",
    "\n",
    "- `Order Date` and `Ship Date` can be used to create time-based features like:\n",
    "     Day of the week, month, quarter, or year.\n",
    "\n",
    "- Time between order and shipment (lead time).\n",
    "\n",
    "2.Customer and Product Insights:\n",
    "\n",
    "- `Customer ID`,` Segment`, and `Region` can help analyze customer behavior and preferences.\n",
    "\n",
    "- `Category` and `Sub-Category` can help identify which products drive sales.\n",
    "\n",
    "3.External Factors:\n",
    "\n",
    "- `Ship Mode` can act as a proxy for shipping costs or delivery speed, which might influence sales.\n",
    "\n",
    "- `Region` and `City` can help analyze geographical trends.\n",
    "\n",
    "4.Target Variable:\n",
    "\n",
    "- `Sales` is the value you’ll predict using your forecasting model."
   ]
  },
  {
   "cell_type": "code",
   "execution_count": null,
   "metadata": {},
   "outputs": [],
   "source": []
  }
 ],
 "metadata": {
  "kernelspec": {
   "display_name": ".venv",
   "language": "python",
   "name": "python3"
  },
  "language_info": {
   "codemirror_mode": {
    "name": "ipython",
    "version": 3
   },
   "file_extension": ".py",
   "mimetype": "text/x-python",
   "name": "python",
   "nbconvert_exporter": "python",
   "pygments_lexer": "ipython3",
   "version": "3.13.0"
  }
 },
 "nbformat": 4,
 "nbformat_minor": 2
}
